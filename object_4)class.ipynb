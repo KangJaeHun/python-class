{
  "nbformat": 4,
  "nbformat_minor": 0,
  "metadata": {
    "colab": {
      "name": "object_4)class.ipynb",
      "provenance": [],
      "authorship_tag": "ABX9TyNZjUdvuJGzu8LJIoirHjU1",
      "include_colab_link": true
    },
    "kernelspec": {
      "name": "python3",
      "display_name": "Python 3"
    }
  },
  "cells": [
    {
      "cell_type": "markdown",
      "metadata": {
        "id": "view-in-github",
        "colab_type": "text"
      },
      "source": [
        "<a href=\"https://colab.research.google.com/github/KangJaeHun/python-class/blob/main/object_4)class.ipynb\" target=\"_parent\"><img src=\"https://colab.research.google.com/assets/colab-badge.svg\" alt=\"Open In Colab\"/></a>"
      ]
    },
    {
      "cell_type": "code",
      "metadata": {
        "colab": {
          "base_uri": "https://localhost:8080/"
        },
        "id": "Wb-WEZs8nCOW",
        "outputId": "6d73e9a1-35de-40b8-9ace-9fe96aafb652"
      },
      "source": [
        "class Student:\r\n",
        "  def __init__(self, name, korean, math, english, science):\r\n",
        "    self.name = name\r\n",
        "    self.korean = korean\r\n",
        "    self.math = math\r\n",
        "    self.english = english\r\n",
        "    self.science = science\r\n",
        "\r\n",
        "  def get_sum(self):\r\n",
        "    return self.korean + self.math +\\\r\n",
        "      self.english + self.science\r\n",
        "  def get_average(self):\r\n",
        "    return self.get_sum() / 4\r\n",
        "\r\n",
        "  def to_string(self):\r\n",
        "    return \"{}\\t{}\\t{}\".format(\\\r\n",
        "      self.name,\\\r\n",
        "      self.get_sum(),\\\r\n",
        "      self.get_average())\r\n",
        "    \r\n",
        "\r\n",
        "students = [\r\n",
        "    Student(\"윤인성\", 87,98,88,95),\r\n",
        "    Student(\"연하진\", 92,98,96,98),\r\n",
        "    Student(\"구지연\", 76,96,94,90),\r\n",
        "    Student(\"나선주\", 98,92,96,92),\r\n",
        "    Student(\"윤아린\", 95,98,98,98),\r\n",
        "    Student(\"윤명월\", 64,88,92,92)\r\n",
        "]\r\n",
        "\r\n",
        "\r\n",
        "print(\"이름\", \"총점\", \"평균\", sep=\"\\t\")\r\n",
        "for student in students:\r\n",
        "\r\n",
        "    print(student.to_string())"
      ],
      "execution_count": 7,
      "outputs": [
        {
          "output_type": "stream",
          "text": [
            "이름\t총점\t평균\n",
            "윤인성\t368\t92.0\n",
            "연하진\t384\t96.0\n",
            "구지연\t356\t89.0\n",
            "나선주\t378\t94.5\n",
            "윤아린\t389\t97.25\n",
            "윤명월\t336\t84.0\n"
          ],
          "name": "stdout"
        }
      ]
    },
    {
      "cell_type": "code",
      "metadata": {
        "id": "bCtUZrRdonAQ"
      },
      "source": [
        ""
      ],
      "execution_count": null,
      "outputs": []
    }
  ]
}